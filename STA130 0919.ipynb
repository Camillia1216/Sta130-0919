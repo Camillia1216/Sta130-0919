{
 "cells": [
  {
   "cell_type": "code",
   "execution_count": null,
   "id": "fb567e58",
   "metadata": {},
   "outputs": [],
   "source": [
    "Chat log:\n",
    "1-3) https://chatgpt.com/share/66ec3a1b-0170-800e-b6b8-afddd2369dd3\n",
    "4)    https://chatgpt.com/share/66eca633-b6bc-800e-b5a3-4eed2befc6bb\n",
    "5)    https://chatgpt.com/share/66ecb529-0670-800e-8af3-3826f441c64c"
   ]
  },
  {
   "cell_type": "code",
   "execution_count": null,
   "id": "cdbc3df9",
   "metadata": {},
   "outputs": [],
   "source": [
    "#1\n",
    "for i in range(n): #This loop runs n times, where (i) take values from 0 to (n-1)\n",
    "    print(f \"Interation {i}\") \n",
    "for x in a_list: #This loop iterates over each element of the list\n",
    "    print(f \"Element:{x}\")\n",
    "for i, x in enumerate(a_list): #This loop gives both index(i) and the element(x) for each iteration\n",
    "    print(f \"Index{i}: Element {x}\")\n",
    "print() #This function outputs data to the console"
   ]
  },
  {
   "cell_type": "code",
   "execution_count": 3,
   "id": "99990c18",
   "metadata": {},
   "outputs": [
    {
     "name": "stdout",
     "output_type": "stream",
     "text": [
      "Index: 0\n",
      "value:apple\n",
      "Index: 1\n",
      "value:banana\n",
      "Index: 2\n",
      "value:cherry\n"
     ]
    }
   ],
   "source": [
    "#2 original\n",
    "a_list=[\"apple\",\"banana\",\"cherry\"]\n",
    "for i,x in enumerate (a_list):\n",
    "    print(f\"Index: {i}\")\n",
    "    print(f\"value:{x}\")"
   ]
  },
  {
   "cell_type": "code",
   "execution_count": 10,
   "id": "285daf2c",
   "metadata": {
    "scrolled": true
   },
   "outputs": [
    {
     "name": "stdout",
     "output_type": "stream",
     "text": [
      "Index: 0, Value: apple\n",
      "Index: 1, Value: banana\n",
      "Index: 2, Value: cherry\n"
     ]
    }
   ],
   "source": [
    "# improved\n",
    "for i,x in enumerate(a_list):\n",
    "    print(f\"Index: {i}, Value: {x}\")\n",
    "# It reduces the number of lines of the code"
   ]
  },
  {
   "cell_type": "code",
   "execution_count": 7,
   "id": "578e43ef",
   "metadata": {},
   "outputs": [
    {
     "name": "stdout",
     "output_type": "stream",
     "text": [
      "Switching: 6631 wins out of 10000 trials (Win rate: 66.31%)\n",
      "Staying: 3304 wins out of 10000 trials (Win rate: 33.04%)\n"
     ]
    }
   ],
   "source": [
    "#3\n",
    "import random\n",
    "\n",
    "def monty_hall_simulation(switch, num_trials):\n",
    "    win_count = 0\n",
    "    \n",
    "# Step 1: Randomly place the car behind one of the three doors\n",
    "    for _ in range(num_trials): \n",
    "    #To specify the repetition of a block of a lock of code num_trials times\n",
    "        car_door = random.randint(0, 2)\n",
    "        #There is only one door behind with a car\n",
    "# Step 2: Contestant randomly picks a door        \n",
    "        player_choice = random.randint(0, 2)\n",
    "        #Player can choose one door each time\n",
    "# Step 3: Monty opens one of the remaining doors, revealing a goat\n",
    "        available_doors = [door for door in range(3) if door != car_door and door != player_choice]\n",
    "        # If Monty does not choose door behind with car, there are other two doors avaliable for Monty to choose\n",
    "        monty_opens = random.choice(available_doors)\n",
    "        #Monty can open one door  \n",
    "# Step 4: Player decides whether to switch doors or stay\n",
    "        if switch:\n",
    "            remaining_door = [door for door in range(3) if door != player_choice and door != monty_opens][0]\n",
    "            player_choice = remaining_door\n",
    "            # Switch to the remaining unopened door. \n",
    "# Step 5: Check if the player's choice is the car door, he win the game, and the number of win+1\n",
    "        if player_choice == car_door:\n",
    "            win_count += 1\n",
    "\n",
    "    return win_count\n",
    "\n",
    "# Parameters\n",
    "num_trials = 10000  \n",
    "# Number of simulations\n",
    "\n",
    "# Simulate both strategies: switching and not switching\n",
    "wins_when_switching = monty_hall_simulation(switch=True, num_trials=num_trials)\n",
    "wins_when_staying = monty_hall_simulation(switch=False, num_trials=num_trials)\n",
    "\n",
    "# Output results\n",
    "print(f\"Switching: {wins_when_switching} wins out of {num_trials} trials (Win rate: {wins_when_switching / num_trials * 100:.2f}%)\")\n",
    "print(f\"Staying: {wins_when_staying} wins out of {num_trials} trials (Win rate: {wins_when_staying / num_trials * 100:.2f}%)\")\n"
   ]
  },
  {
   "cell_type": "code",
   "execution_count": null,
   "id": "7aed68c5",
   "metadata": {},
   "outputs": [],
   "source": [
    "#4\n",
    "# Markovian Chatbot (first version)\n",
    "\n",
    "word_used = dict() #Keep track of how many times each word is used\n",
    "next_word = dict() #Keep track of how often each world follows another word\n",
    "\n",
    "for i,word in enumerate(words[:-1]):\n",
    "#It can loop through all word in the list called (word) except the last one. \n",
    "#To pair each word with the word after it.\n",
    "\n",
    "    if word in word_used:\n",
    "        word_used[word] += 1\n",
    "    else:\n",
    "        word_used[word] = 1\n",
    "        next_word[word] = {}\n",
    "#It increments 1 to word_used[word], if the word exists\n",
    "#If not, it initializes the count at 1, and set up an empty dictionary in next_word[word] to track the words that follow.\n",
    "#To check if it already exists in the word_used dictionary.\n",
    "\n",
    "    if words[i+1] in next_word[word]:\n",
    "        next_word[word][words[i+1]] += 1\n",
    "    else:\n",
    "        next_word[word][words[i+1]] = 1\n",
    "#If words[i+1] have followed the word in next_word, it increments 1 to the count\n",
    "#If not, it initializes the count at 1\n",
    "#To check what the next word\n",
    "\n",
    "#For example(form Chat gpt)\n",
    "word_used = {'hello': 3, 'world': 2}\n",
    "next_word = {\n",
    "    'hello': {'world': 2, 'there': 1},\n",
    "    'world': {'!': 2}\n",
    "#'hello' appears 3 times, 'world' appears 2 times\n",
    "#It means 'world' appears after 'hello' 2 times, 'there' appears after 'hello' 1 time, \n",
    "#'!' appears after 'world' 2 times\n",
    "    "
   ]
  },
  {
   "cell_type": "code",
   "execution_count": null,
   "id": "a1b21096",
   "metadata": {},
   "outputs": [],
   "source": [
    "#5\n",
    "(1)\n",
    "word_used2 = defaultdict(int)\n",
    "next_word2 = defaultdict(lambda: defaultdict(int))\n",
    "for i,word in enumerate(words[:-2]):\n",
    "#It loops from the first word to the second last words\n",
    "    word_used2[word+' '+words[i+1]] += 1\n",
    "#This bigram formed by the current 'word' and the next word 'words[i+1]'\n",
    "    next_word2[word+' '+words[i+1]][words[i+2]] += 1 \n",
    "#To add (word[i+2]) to the previous one\n",
    "(2)\n",
    "from collections import Counter, defaultdict\n",
    "characters = Counter(\"\\n\"+ avatar.character.str.upper().str.replace(' ','.')+\":\")\n",
    "#To help identify characters in the text\n",
    "nested_dict = lambda: defaultdict(nested_dict)\n",
    "#For deeper nesting without needing explicit initialization\n",
    "word_used2C = nested_dict()\n",
    "next_word2C = nested_dict()\n",
    "#To store bigram frequencies for each character\n",
    "\n",
    "for i,word in enumerate(words[:-2]):\n",
    "#The loop iterates over the list, to allow access to the next two words in the sequence\n",
    "    if word in characters:\n",
    "        character = word\n",
    "#Checking if world in the characters\n",
    "\n",
    "    if character not in word_used2C:\n",
    "        word_used2C[character] = dict()\n",
    "    if word+' '+words[i+1] not in word_used2C[character]:\n",
    "        word_used2C[character][word+' '+words[i+1]] = 0\n",
    "    word_used2C[character][word+' '+words[i+1]] += 1\n",
    "#If exist, update the digram counts (word+next word)\n",
    "#If not, it initializes with a value of 0 and them increments the count\n",
    "    if character not in next_word2C:\n",
    "        next_word2C[character] = dict()\n",
    "    if word+' '+words[i+1] not in next_word2C[character]:\n",
    "        next_word2C[character][word+' '+words[i+1]] = dict()\n",
    "    if words[i+2] not in next_word2C[character][word+' '+words[i+1]]:\n",
    "        next_word2C[character][word+' '+words[i+1]][words[i+2]] = 0\n",
    "    next_word2C[character][word+' '+words[i+1]][words[i+2]] += 1\n",
    "#Same as previous "
   ]
  },
  {
   "cell_type": "code",
   "execution_count": null,
   "id": "53e6d4f1",
   "metadata": {},
   "outputs": [],
   "source": [
    "#6\n",
    "1)Discuss how quickly the ChatBot was able to be helpful for each of the above questions, and if so, how?\n",
    "\n",
    "It is an efficient tool. ChatGPT can show the code and its explanation step-by-step immediately and mostly accurately. The only problem is that the code \n",
    "shown with Simplify is unsuitable for beginners, although with an accurate explanation.\n",
    "\n",
    "2) Discuss whether or not interacting with ChatBot to try to figure things out was frustrating or unhelpful, and if so, how? \n",
    "\n",
    "It is one of the most simple and convenient ways to get help from the internet, but it is only mostly accurate. Sometimes, the explanation is too long and\n",
    "confuses me, which is complex world, so it is suitable for search and reference, not studying. \n",
    "\n",
    "3)Based on your experiences to date (e.g., including using ChatBots to troubleshoot coding errors in the previous homework), provide an overall assessment \n",
    "evaluating the usefulness of ChatBots as tools to help you understand code\n",
    "\n",
    "Depending on the first two homework is an efficient and direct way to grab information and knowledge, and information there with really detailed steps. \n",
    "Also, it is really useful when I have errors in my code. Chatgpt can show the errors more directly, which saves a lot of time. \n"
   ]
  },
  {
   "cell_type": "code",
   "execution_count": null,
   "id": "7eca7252",
   "metadata": {},
   "outputs": [],
   "source": [
    "#7\n",
    "1)Reflect on your experience interacting with ChatBot and describe how your perception of AI-driven assistance tools in the context of learning coding, \n",
    "statistics, and data science has been evolving (or not) since joining the course\n",
    "\n",
    "My perception of AI-driven assistance tools has not changed. In my opinion, AI-driven assistance tools can be more common and wide in the application, \n",
    "even though in education. After using Chatgpt in the course, AI-driven assistance is stronger than I thought. For coding, it is really simple and convenient \n",
    "to use and includes more information than I thought.For example, it can give more than one solution to the question, making it easier, shorter, and more \n",
    "complex. Sometimes, it broadens my thinking. "
   ]
  },
  {
   "cell_type": "code",
   "execution_count": null,
   "id": "653750e4",
   "metadata": {},
   "outputs": [],
   "source": [
    "#9\n",
    "Somewhat"
   ]
  }
 ],
 "metadata": {
  "kernelspec": {
   "display_name": "Python 3 (ipykernel)",
   "language": "python",
   "name": "python3"
  },
  "language_info": {
   "codemirror_mode": {
    "name": "ipython",
    "version": 3
   },
   "file_extension": ".py",
   "mimetype": "text/x-python",
   "name": "python",
   "nbconvert_exporter": "python",
   "pygments_lexer": "ipython3",
   "version": "3.11.6"
  }
 },
 "nbformat": 4,
 "nbformat_minor": 5
}
